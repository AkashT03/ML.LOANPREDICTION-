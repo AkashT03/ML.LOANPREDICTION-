{
 "cells": [
  {
   "cell_type": "code",
   "execution_count": 1,
   "id": "f061bbb0",
   "metadata": {},
   "outputs": [],
   "source": [
    "import pandas as pd\n",
    "import numpy as np\n",
    "import matplotlib.pyplot as plt\n",
    "import seaborn as sns"
   ]
  },
  {
   "cell_type": "code",
   "execution_count": 2,
   "id": "e89ee5c3",
   "metadata": {},
   "outputs": [],
   "source": [
    "df=pd.read_csv(\"train.csv\")"
   ]
  },
  {
   "cell_type": "code",
   "execution_count": 3,
   "id": "e59db6ed",
   "metadata": {},
   "outputs": [
    {
     "data": {
      "text/html": [
       "<div>\n",
       "<style scoped>\n",
       "    .dataframe tbody tr th:only-of-type {\n",
       "        vertical-align: middle;\n",
       "    }\n",
       "\n",
       "    .dataframe tbody tr th {\n",
       "        vertical-align: top;\n",
       "    }\n",
       "\n",
       "    .dataframe thead th {\n",
       "        text-align: right;\n",
       "    }\n",
       "</style>\n",
       "<table border=\"1\" class=\"dataframe\">\n",
       "  <thead>\n",
       "    <tr style=\"text-align: right;\">\n",
       "      <th></th>\n",
       "      <th>age</th>\n",
       "      <th>job</th>\n",
       "      <th>marital</th>\n",
       "      <th>education_qual</th>\n",
       "      <th>call_type</th>\n",
       "      <th>day</th>\n",
       "      <th>mon</th>\n",
       "      <th>dur</th>\n",
       "      <th>num_calls</th>\n",
       "      <th>prev_outcome</th>\n",
       "      <th>y</th>\n",
       "    </tr>\n",
       "  </thead>\n",
       "  <tbody>\n",
       "    <tr>\n",
       "      <th>0</th>\n",
       "      <td>58</td>\n",
       "      <td>management</td>\n",
       "      <td>married</td>\n",
       "      <td>tertiary</td>\n",
       "      <td>unknown</td>\n",
       "      <td>5</td>\n",
       "      <td>may</td>\n",
       "      <td>261</td>\n",
       "      <td>1</td>\n",
       "      <td>unknown</td>\n",
       "      <td>no</td>\n",
       "    </tr>\n",
       "    <tr>\n",
       "      <th>1</th>\n",
       "      <td>44</td>\n",
       "      <td>technician</td>\n",
       "      <td>single</td>\n",
       "      <td>secondary</td>\n",
       "      <td>unknown</td>\n",
       "      <td>5</td>\n",
       "      <td>may</td>\n",
       "      <td>151</td>\n",
       "      <td>1</td>\n",
       "      <td>unknown</td>\n",
       "      <td>no</td>\n",
       "    </tr>\n",
       "    <tr>\n",
       "      <th>2</th>\n",
       "      <td>33</td>\n",
       "      <td>entrepreneur</td>\n",
       "      <td>married</td>\n",
       "      <td>secondary</td>\n",
       "      <td>unknown</td>\n",
       "      <td>5</td>\n",
       "      <td>may</td>\n",
       "      <td>76</td>\n",
       "      <td>1</td>\n",
       "      <td>unknown</td>\n",
       "      <td>no</td>\n",
       "    </tr>\n",
       "    <tr>\n",
       "      <th>3</th>\n",
       "      <td>47</td>\n",
       "      <td>blue-collar</td>\n",
       "      <td>married</td>\n",
       "      <td>unknown</td>\n",
       "      <td>unknown</td>\n",
       "      <td>5</td>\n",
       "      <td>may</td>\n",
       "      <td>92</td>\n",
       "      <td>1</td>\n",
       "      <td>unknown</td>\n",
       "      <td>no</td>\n",
       "    </tr>\n",
       "    <tr>\n",
       "      <th>4</th>\n",
       "      <td>33</td>\n",
       "      <td>unknown</td>\n",
       "      <td>single</td>\n",
       "      <td>unknown</td>\n",
       "      <td>unknown</td>\n",
       "      <td>5</td>\n",
       "      <td>may</td>\n",
       "      <td>198</td>\n",
       "      <td>1</td>\n",
       "      <td>unknown</td>\n",
       "      <td>no</td>\n",
       "    </tr>\n",
       "  </tbody>\n",
       "</table>\n",
       "</div>"
      ],
      "text/plain": [
       "   age           job  marital education_qual call_type  day  mon  dur  \\\n",
       "0   58    management  married       tertiary   unknown    5  may  261   \n",
       "1   44    technician   single      secondary   unknown    5  may  151   \n",
       "2   33  entrepreneur  married      secondary   unknown    5  may   76   \n",
       "3   47   blue-collar  married        unknown   unknown    5  may   92   \n",
       "4   33       unknown   single        unknown   unknown    5  may  198   \n",
       "\n",
       "   num_calls prev_outcome   y  \n",
       "0          1      unknown  no  \n",
       "1          1      unknown  no  \n",
       "2          1      unknown  no  \n",
       "3          1      unknown  no  \n",
       "4          1      unknown  no  "
      ]
     },
     "execution_count": 3,
     "metadata": {},
     "output_type": "execute_result"
    }
   ],
   "source": [
    "df.head()"
   ]
  },
  {
   "cell_type": "code",
   "execution_count": 4,
   "id": "25332785",
   "metadata": {},
   "outputs": [],
   "source": [
    "#DATA CLEANING"
   ]
  },
  {
   "cell_type": "code",
   "execution_count": 5,
   "id": "d2bfe7ff",
   "metadata": {},
   "outputs": [
    {
     "data": {
      "text/plain": [
       "(45211, 11)"
      ]
     },
     "execution_count": 5,
     "metadata": {},
     "output_type": "execute_result"
    }
   ],
   "source": [
    "df.shape"
   ]
  },
  {
   "cell_type": "code",
   "execution_count": 6,
   "id": "4897d309",
   "metadata": {},
   "outputs": [
    {
     "data": {
      "text/plain": [
       "array([58, 44, 33, 47, 35, 28, 42, 43, 41, 29, 53, 57, 51, 45, 60, 56, 32,\n",
       "       25, 40, 39, 52, 46, 36, 49, 59, 37, 50, 54, 55, 48, 24, 38, 31, 30,\n",
       "       27, 34, 23, 26, 61, 22, 21, 20, 66, 62, 83, 75, 67, 70, 65, 68, 64,\n",
       "       69, 72, 71, 19, 76, 85, 63, 90, 82, 73, 74, 78, 80, 94, 79, 77, 86,\n",
       "       95, 81, 18, 89, 84, 87, 92, 93, 88], dtype=int64)"
      ]
     },
     "execution_count": 6,
     "metadata": {},
     "output_type": "execute_result"
    }
   ],
   "source": [
    "df[\"age\"].unique()"
   ]
  },
  {
   "cell_type": "code",
   "execution_count": 7,
   "id": "94e5c191",
   "metadata": {},
   "outputs": [
    {
     "data": {
      "text/plain": [
       "array(['management', 'technician', 'entrepreneur', 'blue-collar',\n",
       "       'unknown', 'retired', 'admin.', 'services', 'self-employed',\n",
       "       'unemployed', 'housemaid', 'student'], dtype=object)"
      ]
     },
     "execution_count": 7,
     "metadata": {},
     "output_type": "execute_result"
    }
   ],
   "source": [
    "df[\"job\"].unique()"
   ]
  },
  {
   "cell_type": "code",
   "execution_count": 8,
   "id": "c4d2238f",
   "metadata": {},
   "outputs": [
    {
     "data": {
      "text/plain": [
       "array(['married', 'single', 'divorced'], dtype=object)"
      ]
     },
     "execution_count": 8,
     "metadata": {},
     "output_type": "execute_result"
    }
   ],
   "source": [
    "df[\"marital\"].unique()"
   ]
  },
  {
   "cell_type": "code",
   "execution_count": 9,
   "id": "bda49229",
   "metadata": {},
   "outputs": [
    {
     "data": {
      "text/plain": [
       "array(['tertiary', 'secondary', 'unknown', 'primary'], dtype=object)"
      ]
     },
     "execution_count": 9,
     "metadata": {},
     "output_type": "execute_result"
    }
   ],
   "source": [
    "df[\"education_qual\"].unique()"
   ]
  },
  {
   "cell_type": "code",
   "execution_count": 10,
   "id": "0a567409",
   "metadata": {},
   "outputs": [
    {
     "data": {
      "text/plain": [
       "array(['unknown', 'cellular', 'telephone'], dtype=object)"
      ]
     },
     "execution_count": 10,
     "metadata": {},
     "output_type": "execute_result"
    }
   ],
   "source": [
    "df[\"call_type\"].unique()"
   ]
  },
  {
   "cell_type": "code",
   "execution_count": 11,
   "id": "66659dbb",
   "metadata": {},
   "outputs": [
    {
     "data": {
      "text/plain": [
       "array([ 5,  6,  7,  8,  9, 12, 13, 14, 15, 16, 19, 20, 21, 23, 26, 27, 28,\n",
       "       29, 30,  2,  3,  4, 11, 17, 18, 24, 25,  1, 10, 22, 31],\n",
       "      dtype=int64)"
      ]
     },
     "execution_count": 11,
     "metadata": {},
     "output_type": "execute_result"
    }
   ],
   "source": [
    "df[\"day\"].unique()"
   ]
  },
  {
   "cell_type": "code",
   "execution_count": 12,
   "id": "a5753efa",
   "metadata": {},
   "outputs": [
    {
     "data": {
      "text/plain": [
       "array(['may', 'jun', 'jul', 'aug', 'oct', 'nov', 'dec', 'jan', 'feb',\n",
       "       'mar', 'apr', 'sep'], dtype=object)"
      ]
     },
     "execution_count": 12,
     "metadata": {},
     "output_type": "execute_result"
    }
   ],
   "source": [
    "df[\"mon\"].unique()"
   ]
  },
  {
   "cell_type": "code",
   "execution_count": 13,
   "id": "4c5e0ba2",
   "metadata": {},
   "outputs": [
    {
     "data": {
      "text/plain": [
       "array([ 261,  151,   76, ..., 1298, 1246, 1556], dtype=int64)"
      ]
     },
     "execution_count": 13,
     "metadata": {},
     "output_type": "execute_result"
    }
   ],
   "source": [
    "df[\"dur\"].unique()"
   ]
  },
  {
   "cell_type": "code",
   "execution_count": 14,
   "id": "94734c88",
   "metadata": {},
   "outputs": [
    {
     "data": {
      "text/plain": [
       "array([ 1,  2,  3,  5,  4,  6,  7,  8,  9, 10, 11, 12, 13, 19, 14, 24, 16,\n",
       "       32, 18, 22, 15, 17, 25, 21, 43, 51, 63, 41, 26, 28, 55, 50, 38, 23,\n",
       "       20, 29, 31, 37, 30, 46, 27, 58, 33, 35, 34, 36, 39, 44],\n",
       "      dtype=int64)"
      ]
     },
     "execution_count": 14,
     "metadata": {},
     "output_type": "execute_result"
    }
   ],
   "source": [
    "df[\"num_calls\"].unique()"
   ]
  },
  {
   "cell_type": "code",
   "execution_count": 15,
   "id": "b963444a",
   "metadata": {},
   "outputs": [
    {
     "data": {
      "text/plain": [
       "array(['unknown', 'failure', 'other', 'success'], dtype=object)"
      ]
     },
     "execution_count": 15,
     "metadata": {},
     "output_type": "execute_result"
    }
   ],
   "source": [
    "df[\"prev_outcome\"].unique()"
   ]
  },
  {
   "cell_type": "code",
   "execution_count": 16,
   "id": "cf69d87c",
   "metadata": {},
   "outputs": [],
   "source": [
    "df=df.drop_duplicates()"
   ]
  },
  {
   "cell_type": "code",
   "execution_count": 17,
   "id": "8e99e78f",
   "metadata": {},
   "outputs": [
    {
     "data": {
      "text/plain": [
       "secondary    23199\n",
       "tertiary     13299\n",
       "primary       6850\n",
       "unknown       1857\n",
       "Name: education_qual, dtype: int64"
      ]
     },
     "execution_count": 17,
     "metadata": {},
     "output_type": "execute_result"
    }
   ],
   "source": [
    "df[\"education_qual\"].value_counts()"
   ]
  },
  {
   "cell_type": "code",
   "execution_count": 18,
   "id": "c4f678f4",
   "metadata": {},
   "outputs": [],
   "source": [
    "df.education_qual=df[\"education_qual\"].replace(\"unknown\",df[\"education_qual\"].mode()[0])"
   ]
  },
  {
   "cell_type": "code",
   "execution_count": 19,
   "id": "4accba65",
   "metadata": {},
   "outputs": [
    {
     "data": {
      "text/plain": [
       "secondary    25056\n",
       "tertiary     13299\n",
       "primary       6850\n",
       "Name: education_qual, dtype: int64"
      ]
     },
     "execution_count": 19,
     "metadata": {},
     "output_type": "execute_result"
    }
   ],
   "source": [
    "df.education_qual.value_counts()"
   ]
  },
  {
   "cell_type": "code",
   "execution_count": 20,
   "id": "6eb4cdfe",
   "metadata": {},
   "outputs": [],
   "source": [
    "df.job=df[\"job\"].replace(\"unknown\",df[\"job\"].mode()[0])"
   ]
  },
  {
   "cell_type": "code",
   "execution_count": 21,
   "id": "ce6a19d8",
   "metadata": {},
   "outputs": [
    {
     "data": {
      "text/plain": [
       "blue-collar      10018\n",
       "management        9457\n",
       "technician        7596\n",
       "admin.            5170\n",
       "services          4153\n",
       "retired           2264\n",
       "self-employed     1579\n",
       "entrepreneur      1487\n",
       "unemployed        1303\n",
       "housemaid         1240\n",
       "student            938\n",
       "Name: job, dtype: int64"
      ]
     },
     "execution_count": 21,
     "metadata": {},
     "output_type": "execute_result"
    }
   ],
   "source": [
    "df.job.value_counts()"
   ]
  },
  {
   "cell_type": "code",
   "execution_count": 22,
   "id": "bee3dc6f",
   "metadata": {},
   "outputs": [
    {
     "data": {
      "text/plain": [
       "married     27210\n",
       "single      12788\n",
       "divorced     5207\n",
       "Name: marital, dtype: int64"
      ]
     },
     "execution_count": 22,
     "metadata": {},
     "output_type": "execute_result"
    }
   ],
   "source": [
    "df.marital.value_counts()"
   ]
  },
  {
   "cell_type": "code",
   "execution_count": 23,
   "id": "615f6600",
   "metadata": {},
   "outputs": [
    {
     "data": {
      "text/plain": [
       "cellular     29282\n",
       "unknown      13017\n",
       "telephone     2906\n",
       "Name: call_type, dtype: int64"
      ]
     },
     "execution_count": 23,
     "metadata": {},
     "output_type": "execute_result"
    }
   ],
   "source": [
    "df.call_type.value_counts()"
   ]
  },
  {
   "cell_type": "code",
   "execution_count": 24,
   "id": "380d53b4",
   "metadata": {},
   "outputs": [
    {
     "data": {
      "text/plain": [
       "may    13765\n",
       "jul     6894\n",
       "aug     6245\n",
       "jun     5339\n",
       "nov     3970\n",
       "apr     2932\n",
       "feb     2649\n",
       "jan     1403\n",
       "oct      738\n",
       "sep      579\n",
       "mar      477\n",
       "dec      214\n",
       "Name: mon, dtype: int64"
      ]
     },
     "execution_count": 24,
     "metadata": {},
     "output_type": "execute_result"
    }
   ],
   "source": [
    "df.mon.value_counts()"
   ]
  },
  {
   "cell_type": "code",
   "execution_count": 25,
   "id": "aec01eb4",
   "metadata": {},
   "outputs": [
    {
     "data": {
      "text/plain": [
       "unknown    36953\n",
       "failure     4901\n",
       "other       1840\n",
       "success     1511\n",
       "Name: prev_outcome, dtype: int64"
      ]
     },
     "execution_count": 25,
     "metadata": {},
     "output_type": "execute_result"
    }
   ],
   "source": [
    "df.prev_outcome.value_counts()"
   ]
  },
  {
   "cell_type": "code",
   "execution_count": 26,
   "id": "ba0966f5",
   "metadata": {},
   "outputs": [
    {
     "data": {
      "text/plain": [
       "no     39916\n",
       "yes     5289\n",
       "Name: y, dtype: int64"
      ]
     },
     "execution_count": 26,
     "metadata": {},
     "output_type": "execute_result"
    }
   ],
   "source": [
    "df.y.value_counts()"
   ]
  },
  {
   "cell_type": "code",
   "execution_count": 27,
   "id": "aa6f5c21",
   "metadata": {},
   "outputs": [
    {
     "data": {
      "text/plain": [
       "age               0\n",
       "job               0\n",
       "marital           0\n",
       "education_qual    0\n",
       "call_type         0\n",
       "day               0\n",
       "mon               0\n",
       "dur               0\n",
       "num_calls         0\n",
       "prev_outcome      0\n",
       "y                 0\n",
       "dtype: int64"
      ]
     },
     "execution_count": 27,
     "metadata": {},
     "output_type": "execute_result"
    }
   ],
   "source": [
    "df.isnull().sum()"
   ]
  },
  {
   "cell_type": "code",
   "execution_count": 28,
   "id": "8ff6c9a1",
   "metadata": {},
   "outputs": [
    {
     "data": {
      "text/plain": [
       "(45205, 11)"
      ]
     },
     "execution_count": 28,
     "metadata": {},
     "output_type": "execute_result"
    }
   ],
   "source": [
    "df.shape"
   ]
  },
  {
   "cell_type": "code",
   "execution_count": 29,
   "id": "d01df01a",
   "metadata": {},
   "outputs": [
    {
     "data": {
      "text/html": [
       "<div>\n",
       "<style scoped>\n",
       "    .dataframe tbody tr th:only-of-type {\n",
       "        vertical-align: middle;\n",
       "    }\n",
       "\n",
       "    .dataframe tbody tr th {\n",
       "        vertical-align: top;\n",
       "    }\n",
       "\n",
       "    .dataframe thead th {\n",
       "        text-align: right;\n",
       "    }\n",
       "</style>\n",
       "<table border=\"1\" class=\"dataframe\">\n",
       "  <thead>\n",
       "    <tr style=\"text-align: right;\">\n",
       "      <th></th>\n",
       "      <th>age</th>\n",
       "      <th>day</th>\n",
       "      <th>dur</th>\n",
       "      <th>num_calls</th>\n",
       "    </tr>\n",
       "  </thead>\n",
       "  <tbody>\n",
       "    <tr>\n",
       "      <th>count</th>\n",
       "      <td>45205.000000</td>\n",
       "      <td>45205.00000</td>\n",
       "      <td>45205.000000</td>\n",
       "      <td>45205.000000</td>\n",
       "    </tr>\n",
       "    <tr>\n",
       "      <th>mean</th>\n",
       "      <td>40.937087</td>\n",
       "      <td>15.80688</td>\n",
       "      <td>258.183055</td>\n",
       "      <td>2.763898</td>\n",
       "    </tr>\n",
       "    <tr>\n",
       "      <th>std</th>\n",
       "      <td>10.619130</td>\n",
       "      <td>8.32234</td>\n",
       "      <td>257.538504</td>\n",
       "      <td>3.098189</td>\n",
       "    </tr>\n",
       "    <tr>\n",
       "      <th>min</th>\n",
       "      <td>18.000000</td>\n",
       "      <td>1.00000</td>\n",
       "      <td>0.000000</td>\n",
       "      <td>1.000000</td>\n",
       "    </tr>\n",
       "    <tr>\n",
       "      <th>25%</th>\n",
       "      <td>33.000000</td>\n",
       "      <td>8.00000</td>\n",
       "      <td>103.000000</td>\n",
       "      <td>1.000000</td>\n",
       "    </tr>\n",
       "    <tr>\n",
       "      <th>50%</th>\n",
       "      <td>39.000000</td>\n",
       "      <td>16.00000</td>\n",
       "      <td>180.000000</td>\n",
       "      <td>2.000000</td>\n",
       "    </tr>\n",
       "    <tr>\n",
       "      <th>75%</th>\n",
       "      <td>48.000000</td>\n",
       "      <td>21.00000</td>\n",
       "      <td>319.000000</td>\n",
       "      <td>3.000000</td>\n",
       "    </tr>\n",
       "    <tr>\n",
       "      <th>max</th>\n",
       "      <td>95.000000</td>\n",
       "      <td>31.00000</td>\n",
       "      <td>4918.000000</td>\n",
       "      <td>63.000000</td>\n",
       "    </tr>\n",
       "  </tbody>\n",
       "</table>\n",
       "</div>"
      ],
      "text/plain": [
       "                age          day           dur     num_calls\n",
       "count  45205.000000  45205.00000  45205.000000  45205.000000\n",
       "mean      40.937087     15.80688    258.183055      2.763898\n",
       "std       10.619130      8.32234    257.538504      3.098189\n",
       "min       18.000000      1.00000      0.000000      1.000000\n",
       "25%       33.000000      8.00000    103.000000      1.000000\n",
       "50%       39.000000     16.00000    180.000000      2.000000\n",
       "75%       48.000000     21.00000    319.000000      3.000000\n",
       "max       95.000000     31.00000   4918.000000     63.000000"
      ]
     },
     "execution_count": 29,
     "metadata": {},
     "output_type": "execute_result"
    }
   ],
   "source": [
    "df.describe()"
   ]
  },
  {
   "cell_type": "code",
   "execution_count": 30,
   "id": "8f520ed8",
   "metadata": {},
   "outputs": [
    {
     "data": {
      "text/plain": [
       "(643.0, -221.0)"
      ]
     },
     "execution_count": 30,
     "metadata": {},
     "output_type": "execute_result"
    }
   ],
   "source": [
    "IQR=df.dur.quantile(0.75)-df.dur.quantile(0.25)\n",
    "UL=df.dur.quantile(0.75)+(1.5*IQR)\n",
    "LL=df.dur.quantile(0.25)-(1.5*IQR)\n",
    "UL,LL"
   ]
  },
  {
   "cell_type": "code",
   "execution_count": 31,
   "id": "ebe9a570",
   "metadata": {},
   "outputs": [],
   "source": [
    "df.dur=df.dur.clip(LL,UL)"
   ]
  },
  {
   "cell_type": "code",
   "execution_count": 32,
   "id": "bc946d12",
   "metadata": {},
   "outputs": [
    {
     "data": {
      "text/plain": [
       "(6.0, -2.0)"
      ]
     },
     "execution_count": 32,
     "metadata": {},
     "output_type": "execute_result"
    }
   ],
   "source": [
    "IQR=df.num_calls.quantile(0.75)-df.num_calls.quantile(0.25)\n",
    "UL=df.num_calls.quantile(0.75)+(1.5*IQR)\n",
    "LL=df.num_calls.quantile(0.25)-(1.5*IQR)\n",
    "UL,LL"
   ]
  },
  {
   "cell_type": "code",
   "execution_count": 33,
   "id": "87680621",
   "metadata": {},
   "outputs": [],
   "source": [
    "df.num_calls=df[\"num_calls\"].clip(LL,UL)"
   ]
  },
  {
   "cell_type": "code",
   "execution_count": 34,
   "id": "0205ac44",
   "metadata": {},
   "outputs": [
    {
     "data": {
      "text/html": [
       "<div>\n",
       "<style scoped>\n",
       "    .dataframe tbody tr th:only-of-type {\n",
       "        vertical-align: middle;\n",
       "    }\n",
       "\n",
       "    .dataframe tbody tr th {\n",
       "        vertical-align: top;\n",
       "    }\n",
       "\n",
       "    .dataframe thead th {\n",
       "        text-align: right;\n",
       "    }\n",
       "</style>\n",
       "<table border=\"1\" class=\"dataframe\">\n",
       "  <thead>\n",
       "    <tr style=\"text-align: right;\">\n",
       "      <th></th>\n",
       "      <th>age</th>\n",
       "      <th>day</th>\n",
       "      <th>dur</th>\n",
       "      <th>num_calls</th>\n",
       "    </tr>\n",
       "  </thead>\n",
       "  <tbody>\n",
       "    <tr>\n",
       "      <th>count</th>\n",
       "      <td>45205.000000</td>\n",
       "      <td>45205.00000</td>\n",
       "      <td>45205.00000</td>\n",
       "      <td>45205.000000</td>\n",
       "    </tr>\n",
       "    <tr>\n",
       "      <th>mean</th>\n",
       "      <td>40.937087</td>\n",
       "      <td>15.80688</td>\n",
       "      <td>234.95620</td>\n",
       "      <td>2.392235</td>\n",
       "    </tr>\n",
       "    <tr>\n",
       "      <th>std</th>\n",
       "      <td>10.619130</td>\n",
       "      <td>8.32234</td>\n",
       "      <td>176.75476</td>\n",
       "      <td>1.600152</td>\n",
       "    </tr>\n",
       "    <tr>\n",
       "      <th>min</th>\n",
       "      <td>18.000000</td>\n",
       "      <td>1.00000</td>\n",
       "      <td>0.00000</td>\n",
       "      <td>1.000000</td>\n",
       "    </tr>\n",
       "    <tr>\n",
       "      <th>25%</th>\n",
       "      <td>33.000000</td>\n",
       "      <td>8.00000</td>\n",
       "      <td>103.00000</td>\n",
       "      <td>1.000000</td>\n",
       "    </tr>\n",
       "    <tr>\n",
       "      <th>50%</th>\n",
       "      <td>39.000000</td>\n",
       "      <td>16.00000</td>\n",
       "      <td>180.00000</td>\n",
       "      <td>2.000000</td>\n",
       "    </tr>\n",
       "    <tr>\n",
       "      <th>75%</th>\n",
       "      <td>48.000000</td>\n",
       "      <td>21.00000</td>\n",
       "      <td>319.00000</td>\n",
       "      <td>3.000000</td>\n",
       "    </tr>\n",
       "    <tr>\n",
       "      <th>max</th>\n",
       "      <td>95.000000</td>\n",
       "      <td>31.00000</td>\n",
       "      <td>643.00000</td>\n",
       "      <td>6.000000</td>\n",
       "    </tr>\n",
       "  </tbody>\n",
       "</table>\n",
       "</div>"
      ],
      "text/plain": [
       "                age          day          dur     num_calls\n",
       "count  45205.000000  45205.00000  45205.00000  45205.000000\n",
       "mean      40.937087     15.80688    234.95620      2.392235\n",
       "std       10.619130      8.32234    176.75476      1.600152\n",
       "min       18.000000      1.00000      0.00000      1.000000\n",
       "25%       33.000000      8.00000    103.00000      1.000000\n",
       "50%       39.000000     16.00000    180.00000      2.000000\n",
       "75%       48.000000     21.00000    319.00000      3.000000\n",
       "max       95.000000     31.00000    643.00000      6.000000"
      ]
     },
     "execution_count": 34,
     "metadata": {},
     "output_type": "execute_result"
    }
   ],
   "source": [
    "df.describe()"
   ]
  },
  {
   "cell_type": "code",
   "execution_count": 35,
   "id": "05790344",
   "metadata": {},
   "outputs": [],
   "source": [
    "import warnings\n",
    "warnings.filterwarnings(\"ignore\")"
   ]
  },
  {
   "cell_type": "code",
   "execution_count": 36,
   "id": "9026f80d",
   "metadata": {},
   "outputs": [],
   "source": [
    "df[\"target\"]=df[\"y\"].map({\"yes\":1, \"no\":0})"
   ]
  },
  {
   "cell_type": "code",
   "execution_count": 37,
   "id": "d1ee6d13",
   "metadata": {},
   "outputs": [
    {
     "data": {
      "text/plain": [
       "prev_outcome\n",
       "failure    0.126097\n",
       "other      0.166848\n",
       "success    0.647253\n",
       "unknown    0.091630\n",
       "Name: target, dtype: float64"
      ]
     },
     "execution_count": 37,
     "metadata": {},
     "output_type": "execute_result"
    }
   ],
   "source": [
    "df.groupby(\"prev_outcome\")[\"target\"].mean()"
   ]
  },
  {
   "cell_type": "code",
   "execution_count": 38,
   "id": "a6e2c367",
   "metadata": {},
   "outputs": [
    {
     "name": "stdout",
     "output_type": "stream",
     "text": [
      "<class 'pandas.core.frame.DataFrame'>\n",
      "Int64Index: 45205 entries, 0 to 45210\n",
      "Data columns (total 12 columns):\n",
      " #   Column          Non-Null Count  Dtype  \n",
      "---  ------          --------------  -----  \n",
      " 0   age             45205 non-null  int64  \n",
      " 1   job             45205 non-null  object \n",
      " 2   marital         45205 non-null  object \n",
      " 3   education_qual  45205 non-null  object \n",
      " 4   call_type       45205 non-null  object \n",
      " 5   day             45205 non-null  int64  \n",
      " 6   mon             45205 non-null  object \n",
      " 7   dur             45205 non-null  float64\n",
      " 8   num_calls       45205 non-null  float64\n",
      " 9   prev_outcome    45205 non-null  object \n",
      " 10  y               45205 non-null  object \n",
      " 11  target          45205 non-null  int64  \n",
      "dtypes: float64(2), int64(3), object(7)\n",
      "memory usage: 4.5+ MB\n"
     ]
    }
   ],
   "source": [
    "df.info()"
   ]
  },
  {
   "cell_type": "code",
   "execution_count": 39,
   "id": "0e4e78ac",
   "metadata": {},
   "outputs": [],
   "source": [
    "df[\"num_calls\"]=df[\"num_calls\"].astype(\"int64\")"
   ]
  },
  {
   "cell_type": "code",
   "execution_count": 40,
   "id": "04e8d399",
   "metadata": {},
   "outputs": [],
   "source": [
    "df[\"dur\"]=df[\"dur\"].astype(\"int64\")"
   ]
  },
  {
   "cell_type": "code",
   "execution_count": 41,
   "id": "3fa998cf",
   "metadata": {},
   "outputs": [
    {
     "data": {
      "text/plain": [
       "age                int64\n",
       "job               object\n",
       "marital           object\n",
       "education_qual    object\n",
       "call_type         object\n",
       "day                int64\n",
       "mon               object\n",
       "dur                int64\n",
       "num_calls          int64\n",
       "prev_outcome      object\n",
       "y                 object\n",
       "target             int64\n",
       "dtype: object"
      ]
     },
     "execution_count": 41,
     "metadata": {},
     "output_type": "execute_result"
    }
   ],
   "source": [
    "df.dtypes"
   ]
  },
  {
   "cell_type": "code",
   "execution_count": 42,
   "id": "c0a6abc9",
   "metadata": {},
   "outputs": [
    {
     "data": {
      "text/html": [
       "<div>\n",
       "<style scoped>\n",
       "    .dataframe tbody tr th:only-of-type {\n",
       "        vertical-align: middle;\n",
       "    }\n",
       "\n",
       "    .dataframe tbody tr th {\n",
       "        vertical-align: top;\n",
       "    }\n",
       "\n",
       "    .dataframe thead th {\n",
       "        text-align: right;\n",
       "    }\n",
       "</style>\n",
       "<table border=\"1\" class=\"dataframe\">\n",
       "  <thead>\n",
       "    <tr style=\"text-align: right;\">\n",
       "      <th></th>\n",
       "      <th>age</th>\n",
       "      <th>job</th>\n",
       "      <th>marital</th>\n",
       "      <th>education_qual</th>\n",
       "      <th>call_type</th>\n",
       "      <th>day</th>\n",
       "      <th>mon</th>\n",
       "      <th>dur</th>\n",
       "      <th>num_calls</th>\n",
       "      <th>prev_outcome</th>\n",
       "      <th>y</th>\n",
       "      <th>target</th>\n",
       "    </tr>\n",
       "  </thead>\n",
       "  <tbody>\n",
       "    <tr>\n",
       "      <th>0</th>\n",
       "      <td>58</td>\n",
       "      <td>management</td>\n",
       "      <td>married</td>\n",
       "      <td>tertiary</td>\n",
       "      <td>unknown</td>\n",
       "      <td>5</td>\n",
       "      <td>may</td>\n",
       "      <td>261</td>\n",
       "      <td>1</td>\n",
       "      <td>unknown</td>\n",
       "      <td>no</td>\n",
       "      <td>0</td>\n",
       "    </tr>\n",
       "    <tr>\n",
       "      <th>1</th>\n",
       "      <td>44</td>\n",
       "      <td>technician</td>\n",
       "      <td>single</td>\n",
       "      <td>secondary</td>\n",
       "      <td>unknown</td>\n",
       "      <td>5</td>\n",
       "      <td>may</td>\n",
       "      <td>151</td>\n",
       "      <td>1</td>\n",
       "      <td>unknown</td>\n",
       "      <td>no</td>\n",
       "      <td>0</td>\n",
       "    </tr>\n",
       "    <tr>\n",
       "      <th>2</th>\n",
       "      <td>33</td>\n",
       "      <td>entrepreneur</td>\n",
       "      <td>married</td>\n",
       "      <td>secondary</td>\n",
       "      <td>unknown</td>\n",
       "      <td>5</td>\n",
       "      <td>may</td>\n",
       "      <td>76</td>\n",
       "      <td>1</td>\n",
       "      <td>unknown</td>\n",
       "      <td>no</td>\n",
       "      <td>0</td>\n",
       "    </tr>\n",
       "    <tr>\n",
       "      <th>3</th>\n",
       "      <td>47</td>\n",
       "      <td>blue-collar</td>\n",
       "      <td>married</td>\n",
       "      <td>secondary</td>\n",
       "      <td>unknown</td>\n",
       "      <td>5</td>\n",
       "      <td>may</td>\n",
       "      <td>92</td>\n",
       "      <td>1</td>\n",
       "      <td>unknown</td>\n",
       "      <td>no</td>\n",
       "      <td>0</td>\n",
       "    </tr>\n",
       "    <tr>\n",
       "      <th>4</th>\n",
       "      <td>33</td>\n",
       "      <td>blue-collar</td>\n",
       "      <td>single</td>\n",
       "      <td>secondary</td>\n",
       "      <td>unknown</td>\n",
       "      <td>5</td>\n",
       "      <td>may</td>\n",
       "      <td>198</td>\n",
       "      <td>1</td>\n",
       "      <td>unknown</td>\n",
       "      <td>no</td>\n",
       "      <td>0</td>\n",
       "    </tr>\n",
       "  </tbody>\n",
       "</table>\n",
       "</div>"
      ],
      "text/plain": [
       "   age           job  marital education_qual call_type  day  mon  dur  \\\n",
       "0   58    management  married       tertiary   unknown    5  may  261   \n",
       "1   44    technician   single      secondary   unknown    5  may  151   \n",
       "2   33  entrepreneur  married      secondary   unknown    5  may   76   \n",
       "3   47   blue-collar  married      secondary   unknown    5  may   92   \n",
       "4   33   blue-collar   single      secondary   unknown    5  may  198   \n",
       "\n",
       "   num_calls prev_outcome   y  target  \n",
       "0          1      unknown  no       0  \n",
       "1          1      unknown  no       0  \n",
       "2          1      unknown  no       0  \n",
       "3          1      unknown  no       0  \n",
       "4          1      unknown  no       0  "
      ]
     },
     "execution_count": 42,
     "metadata": {},
     "output_type": "execute_result"
    }
   ],
   "source": [
    "df.head()"
   ]
  },
  {
   "cell_type": "code",
   "execution_count": 43,
   "id": "673806e8",
   "metadata": {},
   "outputs": [],
   "source": [
    "#EXPLORATORY DATA ANALYSIS"
   ]
  },
  {
   "cell_type": "code",
   "execution_count": 44,
   "id": "350d793c",
   "metadata": {},
   "outputs": [
    {
     "data": {
      "image/png": "[encoded data removed]",
      "text/plain": [
       "<Figure size 640x480 with 1 Axes>"
      ]
     },
     "metadata": {},
     "output_type": "display_data"
    }
   ],
   "source": [
    "df_sorted=df.sort_values(by=\"job\",ascending=True)\n",
    "plot=sns.countplot(x=\"job\",data=df)\n",
    "plot.set_xticklabels(plot.get_xticklabels(),rotation=90);\n"
   ]
  },
  {
   "cell_type": "code",
   "execution_count": 45,
   "id": "b0493e1c",
   "metadata": {},
   "outputs": [
    {
     "data": {
      "image/png": "[encoded data removed]",
      "text/plain": [
       "<Figure size 640x480 with 1 Axes>"
      ]
     },
     "metadata": {},
     "output_type": "display_data"
    }
   ],
   "source": [
    "plot=sns.countplot(x=\"job\",data=df,hue=\"y\")\n",
    "plot.set_xticklabels(plot.get_xticklabels(),rotation=90);\n"
   ]
  },
  {
   "cell_type": "code",
   "execution_count": 46,
   "id": "5a8f972a",
   "metadata": {},
   "outputs": [
    {
     "data": {
      "text/plain": [
       "<AxesSubplot:ylabel='job'>"
      ]
     },
     "execution_count": 46,
     "metadata": {},
     "output_type": "execute_result"
    },
    {
     "data": {
      "image/png": "[encoded data removed]",
      "text/plain": [
       "<Figure size 640x480 with 1 Axes>"
      ]
     },
     "metadata": {},
     "output_type": "display_data"
    }
   ],
   "source": [
    "(df.groupby(\"job\")[\"target\"].mean()*100).sort_values().plot(kind=\"barh\",color=\"red\")"
   ]
  },
  {
   "cell_type": "code",
   "execution_count": 47,
   "id": "8dcf5982",
   "metadata": {},
   "outputs": [
    {
     "data": {
      "text/plain": [
       "<AxesSubplot:ylabel='marital'>"
      ]
     },
     "execution_count": 47,
     "metadata": {},
     "output_type": "execute_result"
    },
    {
     "data": {
      "image/png": "[encoded data removed]",
      "text/plain": [
       "<Figure size 640x480 with 1 Axes>"
      ]
     },
     "metadata": {},
     "output_type": "display_data"
    }
   ],
   "source": [
    "(df.groupby(\"marital\")[\"target\"].mean()*100).sort_values().plot(kind=\"barh\",color=\"yellow\")"
   ]
  },
  {
   "cell_type": "code",
   "execution_count": 48,
   "id": "ffb40d80",
   "metadata": {},
   "outputs": [
    {
     "data": {
      "text/plain": [
       "<AxesSubplot:ylabel='education_qual'>"
      ]
     },
     "execution_count": 48,
     "metadata": {},
     "output_type": "execute_result"
    },
    {
     "data": {
      "image/png": "[encoded data removed]",
      "text/plain": [
       "<Figure size 640x480 with 1 Axes>"
      ]
     },
     "metadata": {},
     "output_type": "display_data"
    }
   ],
   "source": [
    "(df.groupby(\"education_qual\")[\"target\"].mean()*100).sort_values().plot(kind=\"barh\",color=\"blue\")"
   ]
  },
  {
   "cell_type": "code",
   "execution_count": 49,
   "id": "c3a82dcd",
   "metadata": {},
   "outputs": [
    {
     "data": {
      "text/plain": [
       "<AxesSubplot:ylabel='num_calls'>"
      ]
     },
     "execution_count": 49,
     "metadata": {},
     "output_type": "execute_result"
    },
    {
     "data": {
      "image/png": "[encoded data removed]",
      "text/plain": [
       "<Figure size 640x480 with 1 Axes>"
      ]
     },
     "metadata": {},
     "output_type": "display_data"
    }
   ],
   "source": [
    "(df.groupby(\"num_calls\")[\"target\"].mean()*100).sort_values().plot(kind=\"barh\",color=\"black\")"
   ]
  },
  {
   "cell_type": "code",
   "execution_count": 50,
   "id": "f33af6e1",
   "metadata": {},
   "outputs": [
    {
     "data": {
      "text/plain": [
       "<AxesSubplot:ylabel='call_type'>"
      ]
     },
     "execution_count": 50,
     "metadata": {},
     "output_type": "execute_result"
    },
    {
     "data": {
      "image/png": "[encoded data removed]",
      "text/plain": [
       "<Figure size 640x480 with 1 Axes>"
      ]
     },
     "metadata": {},
     "output_type": "display_data"
    }
   ],
   "source": [
    "(df.groupby(\"call_type\")[\"target\"].mean()*100).sort_values().plot(kind=\"barh\",color=\"pink\")"
   ]
  },
  {
   "cell_type": "code",
   "execution_count": 51,
   "id": "a330ddf7",
   "metadata": {},
   "outputs": [
    {
     "data": {
      "text/plain": [
       "<AxesSubplot:ylabel='mon'>"
      ]
     },
     "execution_count": 51,
     "metadata": {},
     "output_type": "execute_result"
    },
    {
     "data": {
      "image/png": "[encoded data removed]",
      "text/plain": [
       "<Figure size 640x480 with 1 Axes>"
      ]
     },
     "metadata": {},
     "output_type": "display_data"
    }
   ],
   "source": [
    "(df.groupby(\"mon\")[\"target\"].mean()*100).sort_values().plot(kind=\"barh\",color=\"grey\")"
   ]
  },
  {
   "cell_type": "code",
   "execution_count": 52,
   "id": "c908f13b",
   "metadata": {},
   "outputs": [
    {
     "data": {
      "text/plain": [
       "<AxesSubplot:ylabel='prev_outcome'>"
      ]
     },
     "execution_count": 52,
     "metadata": {},
     "output_type": "execute_result"
    },
    {
     "data": {
      "image/png": "[encoded data removed]",
      "text/plain": [
       "<Figure size 640x480 with 1 Axes>"
      ]
     },
     "metadata": {},
     "output_type": "display_data"
    }
   ],
   "source": [
    "(df.groupby(\"prev_outcome\")[\"target\"].mean()*100).sort_values().plot(kind=\"barh\",color=\"brown\")"
   ]
  },
  {
   "cell_type": "code",
   "execution_count": 53,
   "id": "5ea0e6cb",
   "metadata": {},
   "outputs": [],
   "source": [
    "#DATA ENCODING"
   ]
  },
  {
   "cell_type": "code",
   "execution_count": 54,
   "id": "f8befd64",
   "metadata": {},
   "outputs": [],
   "source": [
    "col=df[\"job\"].unique()\n",
    "P=[]\n",
    "for i in col:\n",
    "    p=len(df[df[\"job\"]==i][df[\"y\"]==\"yes\"])/len(df[df[\"job\"]==i])\n",
    "    P.append(p)\n",
    "job_spec=pd.DataFrame({\"job\":col,\"per\":P})\n",
    "job_spec=job_spec.sort_values(\"per\",ascending=True)\n",
    "job_spec=job_spec.reset_index()\n",
    "del job_spec[\"index\"]"
   ]
  },
  {
   "cell_type": "code",
   "execution_count": 55,
   "id": "38e14f53",
   "metadata": {},
   "outputs": [
    {
     "data": {
      "text/html": [
       "<div>\n",
       "<style scoped>\n",
       "    .dataframe tbody tr th:only-of-type {\n",
       "        vertical-align: middle;\n",
       "    }\n",
       "\n",
       "    .dataframe tbody tr th {\n",
       "        vertical-align: top;\n",
       "    }\n",
       "\n",
       "    .dataframe thead th {\n",
       "        text-align: right;\n",
       "    }\n",
       "</style>\n",
       "<table border=\"1\" class=\"dataframe\">\n",
       "  <thead>\n",
       "    <tr style=\"text-align: right;\">\n",
       "      <th></th>\n",
       "      <th>job</th>\n",
       "      <th>per</th>\n",
       "    </tr>\n",
       "  </thead>\n",
       "  <tbody>\n",
       "    <tr>\n",
       "      <th>0</th>\n",
       "      <td>blue-collar</td>\n",
       "      <td>0.074067</td>\n",
       "    </tr>\n",
       "    <tr>\n",
       "      <th>1</th>\n",
       "      <td>entrepreneur</td>\n",
       "      <td>0.082717</td>\n",
       "    </tr>\n",
       "    <tr>\n",
       "      <th>2</th>\n",
       "      <td>housemaid</td>\n",
       "      <td>0.087903</td>\n",
       "    </tr>\n",
       "    <tr>\n",
       "      <th>3</th>\n",
       "      <td>services</td>\n",
       "      <td>0.088851</td>\n",
       "    </tr>\n",
       "    <tr>\n",
       "      <th>4</th>\n",
       "      <td>technician</td>\n",
       "      <td>0.110585</td>\n",
       "    </tr>\n",
       "    <tr>\n",
       "      <th>5</th>\n",
       "      <td>self-employed</td>\n",
       "      <td>0.118429</td>\n",
       "    </tr>\n",
       "    <tr>\n",
       "      <th>6</th>\n",
       "      <td>admin.</td>\n",
       "      <td>0.122050</td>\n",
       "    </tr>\n",
       "    <tr>\n",
       "      <th>7</th>\n",
       "      <td>management</td>\n",
       "      <td>0.137570</td>\n",
       "    </tr>\n",
       "    <tr>\n",
       "      <th>8</th>\n",
       "      <td>unemployed</td>\n",
       "      <td>0.155027</td>\n",
       "    </tr>\n",
       "    <tr>\n",
       "      <th>9</th>\n",
       "      <td>retired</td>\n",
       "      <td>0.227915</td>\n",
       "    </tr>\n",
       "    <tr>\n",
       "      <th>10</th>\n",
       "      <td>student</td>\n",
       "      <td>0.286780</td>\n",
       "    </tr>\n",
       "  </tbody>\n",
       "</table>\n",
       "</div>"
      ],
      "text/plain": [
       "              job       per\n",
       "0     blue-collar  0.074067\n",
       "1    entrepreneur  0.082717\n",
       "2       housemaid  0.087903\n",
       "3        services  0.088851\n",
       "4      technician  0.110585\n",
       "5   self-employed  0.118429\n",
       "6          admin.  0.122050\n",
       "7      management  0.137570\n",
       "8      unemployed  0.155027\n",
       "9         retired  0.227915\n",
       "10        student  0.286780"
      ]
     },
     "execution_count": 55,
     "metadata": {},
     "output_type": "execute_result"
    }
   ],
   "source": [
    "job_spec"
   ]
  },
  {
   "cell_type": "code",
   "execution_count": 56,
   "id": "f1fb58d6",
   "metadata": {},
   "outputs": [],
   "source": [
    "df[\"job\"]=df[\"job\"].map({job_spec[\"job\"][0]:0,job_spec[\"job\"][1]:1,job_spec[\"job\"][2]:2,job_spec[\"job\"][3]:3,job_spec[\"job\"][4]:4,job_spec[\"job\"][5]:5,job_spec[\"job\"][6]:6,job_spec[\"job\"][7]:7,job_spec[\"job\"][8]:8,job_spec[\"job\"][9]:9, job_spec[\"job\"][10]:10})"
   ]
  },
  {
   "cell_type": "code",
   "execution_count": 57,
   "id": "e2e8f594",
   "metadata": {},
   "outputs": [],
   "source": [
    "col=df[\"marital\"].unique()\n",
    "P=[]\n",
    "for i in col:\n",
    "    p=len(df[df[\"marital\"]==i][df[\"y\"]==\"yes\"])/len(df[df[\"marital\"]==i])\n",
    "    P.append(p)\n",
    "job_spec=pd.DataFrame({\"marital\":col,\"per\":P})\n",
    "job_spec=job_spec.sort_values(\"per\",ascending=True)\n",
    "job_spec=job_spec.reset_index()\n",
    "del job_spec[\"index\"]"
   ]
  },
  {
   "cell_type": "code",
   "execution_count": 58,
   "id": "ebcf33f6",
   "metadata": {},
   "outputs": [
    {
     "data": {
      "text/html": [
       "<div>\n",
       "<style scoped>\n",
       "    .dataframe tbody tr th:only-of-type {\n",
       "        vertical-align: middle;\n",
       "    }\n",
       "\n",
       "    .dataframe tbody tr th {\n",
       "        vertical-align: top;\n",
       "    }\n",
       "\n",
       "    .dataframe thead th {\n",
       "        text-align: right;\n",
       "    }\n",
       "</style>\n",
       "<table border=\"1\" class=\"dataframe\">\n",
       "  <thead>\n",
       "    <tr style=\"text-align: right;\">\n",
       "      <th></th>\n",
       "      <th>marital</th>\n",
       "      <th>per</th>\n",
       "    </tr>\n",
       "  </thead>\n",
       "  <tbody>\n",
       "    <tr>\n",
       "      <th>0</th>\n",
       "      <td>married</td>\n",
       "      <td>0.101250</td>\n",
       "    </tr>\n",
       "    <tr>\n",
       "      <th>1</th>\n",
       "      <td>divorced</td>\n",
       "      <td>0.119455</td>\n",
       "    </tr>\n",
       "    <tr>\n",
       "      <th>2</th>\n",
       "      <td>single</td>\n",
       "      <td>0.149515</td>\n",
       "    </tr>\n",
       "  </tbody>\n",
       "</table>\n",
       "</div>"
      ],
      "text/plain": [
       "    marital       per\n",
       "0   married  0.101250\n",
       "1  divorced  0.119455\n",
       "2    single  0.149515"
      ]
     },
     "execution_count": 58,
     "metadata": {},
     "output_type": "execute_result"
    }
   ],
   "source": [
    "job_spec"
   ]
  },
  {
   "cell_type": "code",
   "execution_count": 59,
   "id": "f6734e88",
   "metadata": {},
   "outputs": [],
   "source": [
    "df[\"marital\"]=df[\"marital\"].map({job_spec[\"marital\"][0]:0,job_spec[\"marital\"][1]:1,job_spec[\"marital\"][2]:2})"
   ]
  },
  {
   "cell_type": "code",
   "execution_count": 60,
   "id": "9854fc87",
   "metadata": {},
   "outputs": [],
   "source": [
    "col=df[\"education_qual\"].unique()\n",
    "P=[]\n",
    "for i in col:\n",
    "    p=len(df[df[\"education_qual\"]==i][df[\"y\"]==\"yes\"])/len(df[df[\"education_qual\"]==i])\n",
    "    P.append(p)\n",
    "job_spec=pd.DataFrame({\"education_qual\":col,\"per\":P})\n",
    "job_spec=job_spec.sort_values(\"per\",ascending=True)\n",
    "job_spec=job_spec.reset_index()\n",
    "del job_spec[\"index\"]"
   ]
  },
  {
   "cell_type": "code",
   "execution_count": 61,
   "id": "1e2aeba3",
   "metadata": {},
   "outputs": [
    {
     "data": {
      "text/html": [
       "<div>\n",
       "<style scoped>\n",
       "    .dataframe tbody tr th:only-of-type {\n",
       "        vertical-align: middle;\n",
       "    }\n",
       "\n",
       "    .dataframe tbody tr th {\n",
       "        vertical-align: top;\n",
       "    }\n",
       "\n",
       "    .dataframe thead th {\n",
       "        text-align: right;\n",
       "    }\n",
       "</style>\n",
       "<table border=\"1\" class=\"dataframe\">\n",
       "  <thead>\n",
       "    <tr style=\"text-align: right;\">\n",
       "      <th></th>\n",
       "      <th>education_qual</th>\n",
       "      <th>per</th>\n",
       "    </tr>\n",
       "  </thead>\n",
       "  <tbody>\n",
       "    <tr>\n",
       "      <th>0</th>\n",
       "      <td>primary</td>\n",
       "      <td>0.086277</td>\n",
       "    </tr>\n",
       "    <tr>\n",
       "      <th>1</th>\n",
       "      <td>secondary</td>\n",
       "      <td>0.107838</td>\n",
       "    </tr>\n",
       "    <tr>\n",
       "      <th>2</th>\n",
       "      <td>tertiary</td>\n",
       "      <td>0.150086</td>\n",
       "    </tr>\n",
       "  </tbody>\n",
       "</table>\n",
       "</div>"
      ],
      "text/plain": [
       "  education_qual       per\n",
       "0        primary  0.086277\n",
       "1      secondary  0.107838\n",
       "2       tertiary  0.150086"
      ]
     },
     "execution_count": 61,
     "metadata": {},
     "output_type": "execute_result"
    }
   ],
   "source": [
    "job_spec"
   ]
  },
  {
   "cell_type": "code",
   "execution_count": 62,
   "id": "eb254518",
   "metadata": {},
   "outputs": [],
   "source": [
    "df[\"education_qual\"]=df[\"education_qual\"].map({job_spec[\"education_qual\"][0]:0,job_spec[\"education_qual\"][1]:1,job_spec[\"education_qual\"][2]:2})"
   ]
  },
  {
   "cell_type": "code",
   "execution_count": 63,
   "id": "71eeb913",
   "metadata": {},
   "outputs": [],
   "source": [
    "col=df[\"call_type\"].unique()\n",
    "P=[]\n",
    "for i in col:\n",
    "    p=len(df[df[\"call_type\"]==i][df[\"y\"]==\"yes\"])/len(df[df[\"call_type\"]==i])\n",
    "    P.append(p)\n",
    "job_spec=pd.DataFrame({\"call_type\":col,\"per\":P})\n",
    "job_spec=job_spec.sort_values(\"per\",ascending=True)\n",
    "job_spec=job_spec.reset_index()\n",
    "del job_spec[\"index\"]"
   ]
  },
  {
   "cell_type": "code",
   "execution_count": 64,
   "id": "d4208927",
   "metadata": {},
   "outputs": [
    {
     "data": {
      "text/html": [
       "<div>\n",
       "<style scoped>\n",
       "    .dataframe tbody tr th:only-of-type {\n",
       "        vertical-align: middle;\n",
       "    }\n",
       "\n",
       "    .dataframe tbody tr th {\n",
       "        vertical-align: top;\n",
       "    }\n",
       "\n",
       "    .dataframe thead th {\n",
       "        text-align: right;\n",
       "    }\n",
       "</style>\n",
       "<table border=\"1\" class=\"dataframe\">\n",
       "  <thead>\n",
       "    <tr style=\"text-align: right;\">\n",
       "      <th></th>\n",
       "      <th>call_type</th>\n",
       "      <th>per</th>\n",
       "    </tr>\n",
       "  </thead>\n",
       "  <tbody>\n",
       "    <tr>\n",
       "      <th>0</th>\n",
       "      <td>unknown</td>\n",
       "      <td>0.040716</td>\n",
       "    </tr>\n",
       "    <tr>\n",
       "      <th>1</th>\n",
       "      <td>telephone</td>\n",
       "      <td>0.134205</td>\n",
       "    </tr>\n",
       "    <tr>\n",
       "      <th>2</th>\n",
       "      <td>cellular</td>\n",
       "      <td>0.149204</td>\n",
       "    </tr>\n",
       "  </tbody>\n",
       "</table>\n",
       "</div>"
      ],
      "text/plain": [
       "   call_type       per\n",
       "0    unknown  0.040716\n",
       "1  telephone  0.134205\n",
       "2   cellular  0.149204"
      ]
     },
     "execution_count": 64,
     "metadata": {},
     "output_type": "execute_result"
    }
   ],
   "source": [
    "job_spec"
   ]
  },
  {
   "cell_type": "code",
   "execution_count": 65,
   "id": "2c93a0b9",
   "metadata": {},
   "outputs": [],
   "source": [
    "df[\"call_type\"]=df[\"call_type\"].map({job_spec[\"call_type\"][0]:0,job_spec[\"call_type\"][1]:1,job_spec[\"call_type\"][2]:2})"
   ]
  },
  {
   "cell_type": "code",
   "execution_count": 66,
   "id": "41451595",
   "metadata": {},
   "outputs": [],
   "source": [
    "col=df[\"mon\"].unique()\n",
    "P=[]\n",
    "for i in col:\n",
    "    p=len(df[df[\"mon\"]==i][df[\"y\"]==\"yes\"])/len(df[df[\"mon\"]==i])\n",
    "    P.append(p)\n",
    "job_spec=pd.DataFrame({\"mon\":col,\"per\":P})\n",
    "job_spec=job_spec.sort_values(\"per\",ascending=True)\n",
    "job_spec=job_spec.reset_index()\n",
    "del job_spec[\"index\"]"
   ]
  },
  {
   "cell_type": "code",
   "execution_count": 67,
   "id": "3d51b15b",
   "metadata": {},
   "outputs": [
    {
     "data": {
      "text/html": [
       "<div>\n",
       "<style scoped>\n",
       "    .dataframe tbody tr th:only-of-type {\n",
       "        vertical-align: middle;\n",
       "    }\n",
       "\n",
       "    .dataframe tbody tr th {\n",
       "        vertical-align: top;\n",
       "    }\n",
       "\n",
       "    .dataframe thead th {\n",
       "        text-align: right;\n",
       "    }\n",
       "</style>\n",
       "<table border=\"1\" class=\"dataframe\">\n",
       "  <thead>\n",
       "    <tr style=\"text-align: right;\">\n",
       "      <th></th>\n",
       "      <th>mon</th>\n",
       "      <th>per</th>\n",
       "    </tr>\n",
       "  </thead>\n",
       "  <tbody>\n",
       "    <tr>\n",
       "      <th>0</th>\n",
       "      <td>may</td>\n",
       "      <td>0.067199</td>\n",
       "    </tr>\n",
       "    <tr>\n",
       "      <th>1</th>\n",
       "      <td>jul</td>\n",
       "      <td>0.090949</td>\n",
       "    </tr>\n",
       "    <tr>\n",
       "      <th>2</th>\n",
       "      <td>jan</td>\n",
       "      <td>0.101212</td>\n",
       "    </tr>\n",
       "    <tr>\n",
       "      <th>3</th>\n",
       "      <td>nov</td>\n",
       "      <td>0.101511</td>\n",
       "    </tr>\n",
       "    <tr>\n",
       "      <th>4</th>\n",
       "      <td>jun</td>\n",
       "      <td>0.102266</td>\n",
       "    </tr>\n",
       "    <tr>\n",
       "      <th>5</th>\n",
       "      <td>aug</td>\n",
       "      <td>0.110168</td>\n",
       "    </tr>\n",
       "    <tr>\n",
       "      <th>6</th>\n",
       "      <td>feb</td>\n",
       "      <td>0.166478</td>\n",
       "    </tr>\n",
       "    <tr>\n",
       "      <th>7</th>\n",
       "      <td>apr</td>\n",
       "      <td>0.196794</td>\n",
       "    </tr>\n",
       "    <tr>\n",
       "      <th>8</th>\n",
       "      <td>oct</td>\n",
       "      <td>0.437669</td>\n",
       "    </tr>\n",
       "    <tr>\n",
       "      <th>9</th>\n",
       "      <td>sep</td>\n",
       "      <td>0.464594</td>\n",
       "    </tr>\n",
       "    <tr>\n",
       "      <th>10</th>\n",
       "      <td>dec</td>\n",
       "      <td>0.467290</td>\n",
       "    </tr>\n",
       "    <tr>\n",
       "      <th>11</th>\n",
       "      <td>mar</td>\n",
       "      <td>0.519916</td>\n",
       "    </tr>\n",
       "  </tbody>\n",
       "</table>\n",
       "</div>"
      ],
      "text/plain": [
       "    mon       per\n",
       "0   may  0.067199\n",
       "1   jul  0.090949\n",
       "2   jan  0.101212\n",
       "3   nov  0.101511\n",
       "4   jun  0.102266\n",
       "5   aug  0.110168\n",
       "6   feb  0.166478\n",
       "7   apr  0.196794\n",
       "8   oct  0.437669\n",
       "9   sep  0.464594\n",
       "10  dec  0.467290\n",
       "11  mar  0.519916"
      ]
     },
     "execution_count": 67,
     "metadata": {},
     "output_type": "execute_result"
    }
   ],
   "source": [
    "job_spec"
   ]
  },
  {
   "cell_type": "code",
   "execution_count": 68,
   "id": "65fcc7d0",
   "metadata": {},
   "outputs": [],
   "source": [
    "df[\"mon\"]=df[\"mon\"].map({job_spec[\"mon\"][0]:0,job_spec[\"mon\"][1]:1,job_spec[\"mon\"][2]:2,job_spec[\"mon\"][3]:3,job_spec[\"mon\"][4]:4,job_spec[\"mon\"][5]:5,job_spec[\"mon\"][6]:6,job_spec[\"mon\"][7]:7,job_spec[\"mon\"][8]:8,job_spec[\"mon\"][9]:9,job_spec[\"mon\"][10]:10,job_spec[\"mon\"][11]:11})"
   ]
  },
  {
   "cell_type": "code",
   "execution_count": 69,
   "id": "58ecd23a",
   "metadata": {},
   "outputs": [],
   "source": [
    "col=df[\"prev_outcome\"].unique()\n",
    "P=[]\n",
    "for i in col:\n",
    "    p=len(df[df[\"prev_outcome\"]==i][df[\"y\"]==\"yes\"])/len(df[df[\"prev_outcome\"]==i])\n",
    "    P.append(p)\n",
    "job_spec=pd.DataFrame({\"prev_outcome\":col,\"per\":P})\n",
    "job_spec=job_spec.sort_values(\"per\",ascending=True)\n",
    "job_spec=job_spec.reset_index()\n",
    "del job_spec[\"index\"]"
   ]
  },
  {
   "cell_type": "code",
   "execution_count": 70,
   "id": "f8774f77",
   "metadata": {},
   "outputs": [
    {
     "data": {
      "text/html": [
       "<div>\n",
       "<style scoped>\n",
       "    .dataframe tbody tr th:only-of-type {\n",
       "        vertical-align: middle;\n",
       "    }\n",
       "\n",
       "    .dataframe tbody tr th {\n",
       "        vertical-align: top;\n",
       "    }\n",
       "\n",
       "    .dataframe thead th {\n",
       "        text-align: right;\n",
       "    }\n",
       "</style>\n",
       "<table border=\"1\" class=\"dataframe\">\n",
       "  <thead>\n",
       "    <tr style=\"text-align: right;\">\n",
       "      <th></th>\n",
       "      <th>prev_outcome</th>\n",
       "      <th>per</th>\n",
       "    </tr>\n",
       "  </thead>\n",
       "  <tbody>\n",
       "    <tr>\n",
       "      <th>0</th>\n",
       "      <td>unknown</td>\n",
       "      <td>0.091630</td>\n",
       "    </tr>\n",
       "    <tr>\n",
       "      <th>1</th>\n",
       "      <td>failure</td>\n",
       "      <td>0.126097</td>\n",
       "    </tr>\n",
       "    <tr>\n",
       "      <th>2</th>\n",
       "      <td>other</td>\n",
       "      <td>0.166848</td>\n",
       "    </tr>\n",
       "    <tr>\n",
       "      <th>3</th>\n",
       "      <td>success</td>\n",
       "      <td>0.647253</td>\n",
       "    </tr>\n",
       "  </tbody>\n",
       "</table>\n",
       "</div>"
      ],
      "text/plain": [
       "  prev_outcome       per\n",
       "0      unknown  0.091630\n",
       "1      failure  0.126097\n",
       "2        other  0.166848\n",
       "3      success  0.647253"
      ]
     },
     "execution_count": 70,
     "metadata": {},
     "output_type": "execute_result"
    }
   ],
   "source": [
    "job_spec"
   ]
  },
  {
   "cell_type": "code",
   "execution_count": 71,
   "id": "a2bb640f",
   "metadata": {},
   "outputs": [],
   "source": [
    "df[\"prev_outcome\"]=df[\"prev_outcome\"].map({job_spec[\"prev_outcome\"][0]:0,job_spec[\"prev_outcome\"][1]:1,job_spec[\"prev_outcome\"][2]:2,job_spec[\"prev_outcome\"][3]:3})"
   ]
  },
  {
   "cell_type": "code",
   "execution_count": 72,
   "id": "57156a89",
   "metadata": {},
   "outputs": [
    {
     "data": {
      "text/html": [
       "<div>\n",
       "<style scoped>\n",
       "    .dataframe tbody tr th:only-of-type {\n",
       "        vertical-align: middle;\n",
       "    }\n",
       "\n",
       "    .dataframe tbody tr th {\n",
       "        vertical-align: top;\n",
       "    }\n",
       "\n",
       "    .dataframe thead th {\n",
       "        text-align: right;\n",
       "    }\n",
       "</style>\n",
       "<table border=\"1\" class=\"dataframe\">\n",
       "  <thead>\n",
       "    <tr style=\"text-align: right;\">\n",
       "      <th></th>\n",
       "      <th>age</th>\n",
       "      <th>job</th>\n",
       "      <th>marital</th>\n",
       "      <th>education_qual</th>\n",
       "      <th>call_type</th>\n",
       "      <th>day</th>\n",
       "      <th>mon</th>\n",
       "      <th>dur</th>\n",
       "      <th>num_calls</th>\n",
       "      <th>prev_outcome</th>\n",
       "      <th>y</th>\n",
       "      <th>target</th>\n",
       "    </tr>\n",
       "  </thead>\n",
       "  <tbody>\n",
       "    <tr>\n",
       "      <th>0</th>\n",
       "      <td>58</td>\n",
       "      <td>7</td>\n",
       "      <td>0</td>\n",
       "      <td>2</td>\n",
       "      <td>0</td>\n",
       "      <td>5</td>\n",
       "      <td>0</td>\n",
       "      <td>261</td>\n",
       "      <td>1</td>\n",
       "      <td>0</td>\n",
       "      <td>no</td>\n",
       "      <td>0</td>\n",
       "    </tr>\n",
       "    <tr>\n",
       "      <th>1</th>\n",
       "      <td>44</td>\n",
       "      <td>4</td>\n",
       "      <td>2</td>\n",
       "      <td>1</td>\n",
       "      <td>0</td>\n",
       "      <td>5</td>\n",
       "      <td>0</td>\n",
       "      <td>151</td>\n",
       "      <td>1</td>\n",
       "      <td>0</td>\n",
       "      <td>no</td>\n",
       "      <td>0</td>\n",
       "    </tr>\n",
       "    <tr>\n",
       "      <th>2</th>\n",
       "      <td>33</td>\n",
       "      <td>1</td>\n",
       "      <td>0</td>\n",
       "      <td>1</td>\n",
       "      <td>0</td>\n",
       "      <td>5</td>\n",
       "      <td>0</td>\n",
       "      <td>76</td>\n",
       "      <td>1</td>\n",
       "      <td>0</td>\n",
       "      <td>no</td>\n",
       "      <td>0</td>\n",
       "    </tr>\n",
       "    <tr>\n",
       "      <th>3</th>\n",
       "      <td>47</td>\n",
       "      <td>0</td>\n",
       "      <td>0</td>\n",
       "      <td>1</td>\n",
       "      <td>0</td>\n",
       "      <td>5</td>\n",
       "      <td>0</td>\n",
       "      <td>92</td>\n",
       "      <td>1</td>\n",
       "      <td>0</td>\n",
       "      <td>no</td>\n",
       "      <td>0</td>\n",
       "    </tr>\n",
       "    <tr>\n",
       "      <th>4</th>\n",
       "      <td>33</td>\n",
       "      <td>0</td>\n",
       "      <td>2</td>\n",
       "      <td>1</td>\n",
       "      <td>0</td>\n",
       "      <td>5</td>\n",
       "      <td>0</td>\n",
       "      <td>198</td>\n",
       "      <td>1</td>\n",
       "      <td>0</td>\n",
       "      <td>no</td>\n",
       "      <td>0</td>\n",
       "    </tr>\n",
       "  </tbody>\n",
       "</table>\n",
       "</div>"
      ],
      "text/plain": [
       "   age  job  marital  education_qual  call_type  day  mon  dur  num_calls  \\\n",
       "0   58    7        0               2          0    5    0  261          1   \n",
       "1   44    4        2               1          0    5    0  151          1   \n",
       "2   33    1        0               1          0    5    0   76          1   \n",
       "3   47    0        0               1          0    5    0   92          1   \n",
       "4   33    0        2               1          0    5    0  198          1   \n",
       "\n",
       "   prev_outcome   y  target  \n",
       "0             0  no       0  \n",
       "1             0  no       0  \n",
       "2             0  no       0  \n",
       "3             0  no       0  \n",
       "4             0  no       0  "
      ]
     },
     "execution_count": 72,
     "metadata": {},
     "output_type": "execute_result"
    }
   ],
   "source": [
    "df.head()"
   ]
  },
  {
   "cell_type": "code",
   "execution_count": 73,
   "id": "a0d1bdce",
   "metadata": {},
   "outputs": [],
   "source": [
    "#SPLITING A DATA"
   ]
  },
  {
   "cell_type": "code",
   "execution_count": 74,
   "id": "a22610d0",
   "metadata": {},
   "outputs": [
    {
     "data": {
      "text/plain": [
       "['age',\n",
       " 'job',\n",
       " 'marital',\n",
       " 'education_qual',\n",
       " 'call_type',\n",
       " 'day',\n",
       " 'mon',\n",
       " 'dur',\n",
       " 'num_calls',\n",
       " 'prev_outcome']"
      ]
     },
     "execution_count": 74,
     "metadata": {},
     "output_type": "execute_result"
    }
   ],
   "source": [
    "col=[*df.columns]\n",
    "col[:-2]"
   ]
  },
  {
   "cell_type": "code",
   "execution_count": 75,
   "id": "d98d5afa",
   "metadata": {},
   "outputs": [],
   "source": [
    "x=df.loc[:,col[:-2]].values\n",
    "y=df.loc[:,col[-1]].values"
   ]
  },
  {
   "cell_type": "code",
   "execution_count": 76,
   "id": "9c04039d",
   "metadata": {},
   "outputs": [],
   "source": [
    "from sklearn.model_selection import train_test_split\n",
    "x_train,x_test,y_train,y_test=train_test_split(x,y,test_size=0.25)"
   ]
  },
  {
   "cell_type": "code",
   "execution_count": 77,
   "id": "163d5c92",
   "metadata": {},
   "outputs": [],
   "source": [
    "#BALANCING DATA"
   ]
  },
  {
   "cell_type": "code",
   "execution_count": 78,
   "id": "4281bfdc",
   "metadata": {},
   "outputs": [
    {
     "data": {
      "text/plain": [
       "(45205, 12)"
      ]
     },
     "execution_count": 78,
     "metadata": {},
     "output_type": "execute_result"
    }
   ],
   "source": [
    "df.shape"
   ]
  },
  {
   "cell_type": "code",
   "execution_count": 79,
   "id": "ce4f44eb",
   "metadata": {},
   "outputs": [
    {
     "data": {
      "text/plain": [
       "(33903, 33903)"
      ]
     },
     "execution_count": 79,
     "metadata": {},
     "output_type": "execute_result"
    }
   ],
   "source": [
    "len(x_train),len(y_train)"
   ]
  },
  {
   "cell_type": "code",
   "execution_count": 80,
   "id": "2393b42b",
   "metadata": {},
   "outputs": [],
   "source": [
    "#SMOTEENN"
   ]
  },
  {
   "cell_type": "code",
   "execution_count": 81,
   "id": "41316504",
   "metadata": {},
   "outputs": [],
   "source": [
    "from imblearn.combine import SMOTEENN\n",
    "smt = SMOTEENN(sampling_strategy=\"all\")\n",
    "x_smt, y_smt = smt.fit_resample(x_train, y_train)"
   ]
  },
  {
   "cell_type": "code",
   "execution_count": 82,
   "id": "4cb44b56",
   "metadata": {},
   "outputs": [
    {
     "data": {
      "text/plain": [
       "(50045, 50045)"
      ]
     },
     "execution_count": 82,
     "metadata": {},
     "output_type": "execute_result"
    }
   ],
   "source": [
    "len(x_smt),len(y_smt)"
   ]
  },
  {
   "cell_type": "code",
   "execution_count": 83,
   "id": "2c24e21e",
   "metadata": {},
   "outputs": [],
   "source": [
    "df_bal=pd.DataFrame(x_smt,columns=df.columns[:-2])"
   ]
  },
  {
   "cell_type": "code",
   "execution_count": 84,
   "id": "15b3f022",
   "metadata": {},
   "outputs": [],
   "source": [
    "df_bal[\"y\"]=y_smt"
   ]
  },
  {
   "cell_type": "code",
   "execution_count": 85,
   "id": "6727aa34",
   "metadata": {},
   "outputs": [
    {
     "data": {
      "text/plain": [
       "0.5621740433609751"
      ]
     },
     "execution_count": 85,
     "metadata": {},
     "output_type": "execute_result"
    }
   ],
   "source": [
    "len(df_bal[df_bal[\"y\"]==1])/len(df_bal)"
   ]
  },
  {
   "cell_type": "code",
   "execution_count": 86,
   "id": "680f240f",
   "metadata": {},
   "outputs": [],
   "source": [
    "#SCALLING DATA SET "
   ]
  },
  {
   "cell_type": "code",
   "execution_count": 87,
   "id": "3b2a29df",
   "metadata": {},
   "outputs": [],
   "source": [
    "from sklearn.preprocessing import StandardScaler\n",
    "scaler=StandardScaler()\n",
    "x_train_scaled=scaler.fit_transform(x_smt)\n",
    "x_test_scaled=scaler.transform(x_test)"
   ]
  },
  {
   "cell_type": "code",
   "execution_count": 88,
   "id": "b01f9b30",
   "metadata": {},
   "outputs": [
    {
     "data": {
      "text/plain": [
       "array([[-0.94173379, -0.53348341,  1.58016735, ..., -0.94891779,\n",
       "        -0.74092615, -0.50992097],\n",
       "       [ 0.57984033, -1.58048445, -0.76181793, ..., -0.84830137,\n",
       "         1.32176642, -0.50992097],\n",
       "       [-0.77267   ,  0.51351762, -0.76181793, ..., -1.15973314,\n",
       "        -0.05336196, -0.50992097],\n",
       "       ...,\n",
       "       [ 3.11579719,  1.56051866, -0.76181793, ...,  0.09078517,\n",
       "         0.63420223, -0.50992097],\n",
       "       [ 0.07264895, -1.58048445, -0.76181793, ...,  1.59044889,\n",
       "        -0.74092615, -0.50992097],\n",
       "       [ 0.41077653,  0.51351762, -0.76181793, ...,  1.59044889,\n",
       "        -0.74092615, -0.50992097]])"
      ]
     },
     "execution_count": 88,
     "metadata": {},
     "output_type": "execute_result"
    }
   ],
   "source": [
    "x_train_scaled"
   ]
  },
  {
   "cell_type": "code",
   "execution_count": 89,
   "id": "b608b4a7",
   "metadata": {},
   "outputs": [
    {
     "data": {
      "text/plain": [
       "array([[ 0.32624464, -1.58048445, -0.76181793, ..., -1.0159954 ,\n",
       "        -0.74092615,  1.91895592],\n",
       "       [-0.60360621, -1.58048445, -0.76181793, ...,  0.06682888,\n",
       "        -0.74092615,  0.70451747],\n",
       "       [-0.77267   , -0.53348341,  1.58016735, ..., -0.81955383,\n",
       "        -0.05336196, -0.50992097],\n",
       "       ...,\n",
       "       [ 0.32624464,  1.56051866,  0.40917471, ..., -1.09744678,\n",
       "        -0.05336196, -0.50992097],\n",
       "       [-0.35001053, -0.18448307, -0.76181793, ..., -0.21585533,\n",
       "        -0.74092615,  1.91895592],\n",
       "       [-0.18094673, -0.18448307, -0.76181793, ..., -1.27951458,\n",
       "         2.00933061, -0.50992097]])"
      ]
     },
     "execution_count": 89,
     "metadata": {},
     "output_type": "execute_result"
    }
   ],
   "source": [
    "x_test_scaled"
   ]
  },
  {
   "cell_type": "code",
   "execution_count": 90,
   "id": "80a9377d",
   "metadata": {},
   "outputs": [],
   "source": [
    "#LOGISTIC REGRESSION"
   ]
  },
  {
   "cell_type": "code",
   "execution_count": 91,
   "id": "e1ab8af4",
   "metadata": {},
   "outputs": [],
   "source": [
    "from sklearn.linear_model import LogisticRegression\n",
    "from sklearn.metrics import roc_auc_score\n",
    "sa=LogisticRegression()\n",
    "sa.fit(x_train_scaled,y_smt)\n",
    "sa.score(x_test_scaled,y_test)\n",
    "log=roc_auc_score(y_test,sa.predict_proba(x_test_scaled)[:,1])"
   ]
  },
  {
   "cell_type": "code",
   "execution_count": 127,
   "id": "f154376d",
   "metadata": {},
   "outputs": [
    {
     "data": {
      "text/plain": [
       "0.8794381152527375"
      ]
     },
     "execution_count": 127,
     "metadata": {},
     "output_type": "execute_result"
    }
   ],
   "source": [
    "sa=LogisticRegression()\n",
    "sa.fit(x_train,y_train)\n",
    "sa.score(x_test,y_test)\n"
   ]
  },
  {
   "cell_type": "code",
   "execution_count": 92,
   "id": "76d6d202",
   "metadata": {},
   "outputs": [],
   "source": [
    "#KNN"
   ]
  },
  {
   "cell_type": "code",
   "execution_count": 93,
   "id": "c20ff6a8",
   "metadata": {},
   "outputs": [
    {
     "data": {
      "text/plain": [
       "0.7887099628384356"
      ]
     },
     "execution_count": 93,
     "metadata": {},
     "output_type": "execute_result"
    }
   ],
   "source": [
    "from sklearn.model_selection import cross_val_score\n",
    "from sklearn.neighbors import KNeighborsClassifier\n",
    "KNN= KNeighborsClassifier()\n",
    "KNN.fit(x_train_scaled,y_smt)\n",
    "KNN.score(x_test_scaled,y_test)\n"
   ]
  },
  {
   "cell_type": "code",
   "execution_count": 94,
   "id": "03a2cc94",
   "metadata": {},
   "outputs": [
    {
     "name": "stdout",
     "output_type": "stream",
     "text": [
      "K value: 1 train score: 0.999852520425921 cv score: 0.629943280132796\n",
      "K value: 2 train score: 0.9214523788455299 cv score: 0.6983503628327713\n",
      "K value: 3 train score: 0.9250803763678731 cv score: 0.7383386000426894\n",
      "K value: 4 train score: 0.9083856885821314 cv score: 0.7619149122356547\n",
      "K value: 5 train score: 0.9112762882340796 cv score: 0.7792016277852217\n",
      "K value: 6 train score: 0.902309530130077 cv score: 0.7952496727057827\n",
      "K value: 7 train score: 0.9047576910597882 cv score: 0.804883761906885\n",
      "K value: 8 train score: 0.8995664100522077 cv score: 0.8125257305323423\n",
      "K value: 9 train score: 0.9005102793263133 cv score: 0.8182696769966434\n",
      "K value: 10 train score: 0.8967053063150754 cv score: 0.8247339175836819\n",
      "K value: 11 train score: 0.8972362327817597 cv score: 0.8309063288571124\n",
      "K value: 12 train score: 0.8954664778928119 cv score: 0.8353920221982144\n",
      "K value: 13 train score: 0.8955254697224434 cv score: 0.8385388685009052\n",
      "K value: 14 train score: 0.8938147066631271 cv score: 0.8405744436971696\n",
      "K value: 15 train score: 0.8953484942335487 cv score: 0.8422920744948522\n",
      "K value: 16 train score: 0.8940801698964693 cv score: 0.8434521083555185\n",
      "K value: 17 train score: 0.8946700881927853 cv score: 0.8447939303491595\n",
      "K value: 18 train score: 0.8935492434297849 cv score: 0.8467866008122293\n",
      "K value: 19 train score: 0.8931952924519954 cv score: 0.8480688754727195\n",
      "K value: 20 train score: 0.8925168864112321 cv score: 0.8499102310669421\n"
     ]
    }
   ],
   "source": [
    "for i in [1,2,3,4,5,6,7,8,9,10,11,12,13,14,15,16,17,18,19,20]:\n",
    "    KNN=KNeighborsClassifier(i)\n",
    "    KNN.fit(x_train,y_train)\n",
    "    print(\"K value:\",i,\"train score:\",KNN.score(x_train,y_train),\"cv score:\",np.mean(cross_val_score(KNN,x_train,y_train,cv=15,scoring=\"roc_auc\")))"
   ]
  },
  {
   "cell_type": "code",
   "execution_count": 95,
   "id": "d5ee538d",
   "metadata": {},
   "outputs": [
    {
     "data": {
      "text/plain": [
       "0.8627676517430544"
      ]
     },
     "execution_count": 95,
     "metadata": {},
     "output_type": "execute_result"
    }
   ],
   "source": [
    "KNN=KNeighborsClassifier(1)\n",
    "KNN.fit(x_train,y_train)\n",
    "KNN.score(x_test,y_test)\n"
   ]
  },
  {
   "cell_type": "code",
   "execution_count": 96,
   "id": "c5d6f261",
   "metadata": {},
   "outputs": [],
   "source": [
    "#DECISION TREE"
   ]
  },
  {
   "cell_type": "code",
   "execution_count": 97,
   "id": "c86aac32",
   "metadata": {},
   "outputs": [],
   "source": [
    "from sklearn.tree import DecisionTreeClassifier\n",
    "dt = DecisionTreeClassifier()\n"
   ]
  },
  {
   "cell_type": "code",
   "execution_count": 98,
   "id": "96cff721",
   "metadata": {},
   "outputs": [
    {
     "data": {
      "text/plain": [
       "0.8256945673332153"
      ]
     },
     "execution_count": 98,
     "metadata": {},
     "output_type": "execute_result"
    }
   ],
   "source": [
    "dt.fit(x_train_scaled,y_smt)\n",
    "dt.score(x_test_scaled,y_test)"
   ]
  },
  {
   "cell_type": "code",
   "execution_count": 99,
   "id": "0048de9b",
   "metadata": {},
   "outputs": [
    {
     "name": "stdout",
     "output_type": "stream",
     "text": [
      "max_depth: 1 train score: 0.8823112998849659 cv score: 0.6713475933229931\n",
      "max_depth: 2 train score: 0.8908356192667316 cv score: 0.748362382201283\n",
      "max_depth: 3 train score: 0.8960563961891278 cv score: 0.7938063541444996\n",
      "max_depth: 4 train score: 0.9005102793263133 cv score: 0.8196499388492801\n",
      "max_depth: 5 train score: 0.9032533994041825 cv score: 0.8488279487554065\n",
      "max_depth: 6 train score: 0.9048461788042356 cv score: 0.8653650245086426\n",
      "max_depth: 7 train score: 0.9077957702858154 cv score: 0.8746355575101508\n",
      "max_depth: 8 train score: 0.9121021738489219 cv score: 0.8697089030610905\n",
      "max_depth: 9 train score: 0.9164085774120284 cv score: 0.8641686564331785\n",
      "max_depth: 10 train score: 0.923340117393741 cv score: 0.8465495849676152\n",
      "max_depth: 11 train score: 0.9304486328643483 cv score: 0.8233908291100901\n",
      "max_depth: 12 train score: 0.9370852136979029 cv score: 0.7940907799497261\n",
      "max_depth: 13 train score: 0.9454030616759579 cv score: 0.7703832834109517\n",
      "max_depth: 14 train score: 0.9532489750169602 cv score: 0.7477918774004061\n",
      "max_depth: 15 train score: 0.9601510190838569 cv score: 0.7336139337101008\n",
      "max_depth: 16 train score: 0.9673480222989116 cv score: 0.726609122157334\n",
      "max_depth: 17 train score: 0.972981742028729 cv score: 0.7272721745931384\n",
      "max_depth: 18 train score: 0.9787629413326254 cv score: 0.7137226169308863\n",
      "max_depth: 19 train score: 0.9839247264253901 cv score: 0.7098524038645669\n",
      "max_depth: 20 train score: 0.988762056455181 cv score: 0.70206275373504\n",
      "max_depth: 21 train score: 0.9924490458071558 cv score: 0.7060515055634802\n",
      "max_depth: 22 train score: 0.9948677108220512 cv score: 0.7040981339379978\n",
      "max_depth: 23 train score: 0.9965489779665516 cv score: 0.6980436079628513\n",
      "max_depth: 24 train score: 0.9977288145591836 cv score: 0.7017678754065477\n",
      "max_depth: 25 train score: 0.9988791552369997 cv score: 0.6989668426766347\n"
     ]
    }
   ],
   "source": [
    "for i in [1,2,3,4,5,6,7,8,9,10,11,12,13,14,15,16,17,18,19,20,21,22,23,24,25]:\n",
    "    dt=DecisionTreeClassifier(max_depth=i)\n",
    "    dt.fit(x_train,y_train)\n",
    "    tt=DecisionTreeClassifier(max_depth=i)\n",
    "    print(\"max_depth:\",i,\"train score:\",dt.score(x_train,y_train),\"cv score:\",np.mean(cross_val_score(tt,x_train,y_train,cv=15,scoring=\"roc_auc\")))"
   ]
  },
  {
   "cell_type": "code",
   "execution_count": 100,
   "id": "a213695b",
   "metadata": {},
   "outputs": [
    {
     "data": {
      "text/plain": [
       "0.8777207573880729"
      ]
     },
     "execution_count": 100,
     "metadata": {},
     "output_type": "execute_result"
    }
   ],
   "source": [
    "dt=DecisionTreeClassifier(max_depth=25)\n",
    "dt.fit(x_train,y_train)\n",
    "dt.score(x_test,y_test)"
   ]
  },
  {
   "cell_type": "code",
   "execution_count": 101,
   "id": "2fd0bdef",
   "metadata": {},
   "outputs": [
    {
     "data": {
      "text/plain": [
       "array([[10003,     0],\n",
       "       [ 1299,     0]], dtype=int64)"
      ]
     },
     "execution_count": 101,
     "metadata": {},
     "output_type": "execute_result"
    }
   ],
   "source": [
    "from sklearn.metrics import confusion_matrix\n",
    "confusion_matrix(y_test,dt.predict(x_test_scaled))"
   ]
  },
  {
   "cell_type": "code",
   "execution_count": 102,
   "id": "f1264940",
   "metadata": {},
   "outputs": [],
   "source": [
    "#RANDOM FOREST"
   ]
  },
  {
   "cell_type": "code",
   "execution_count": 103,
   "id": "f41fc282",
   "metadata": {},
   "outputs": [
    {
     "data": {
      "text/plain": [
       "0.7013699200478503"
      ]
     },
     "execution_count": 103,
     "metadata": {},
     "output_type": "execute_result"
    }
   ],
   "source": [
    "from sklearn.ensemble import RandomForestClassifier\n",
    "rf = RandomForestClassifier(n_estimators=100,max_depth=20, max_features='sqrt')\n",
    "rf.fit(x_train,y_train)\n",
    "y_pred = rf.predict(x_test)\n",
    "roc_auc_score(y_test,y_pred)\n",
    "\n"
   ]
  },
  {
   "cell_type": "code",
   "execution_count": 104,
   "id": "4e6f93f9",
   "metadata": {
    "scrolled": true
   },
   "outputs": [],
   "source": [
    "from sklearn.metrics import roc_auc_score\n",
    "r=roc_auc_score(y_test,rf.predict_proba(x_test_scaled)[:,1])"
   ]
  },
  {
   "cell_type": "code",
   "execution_count": 105,
   "id": "5408f520",
   "metadata": {},
   "outputs": [
    {
     "data": {
      "text/plain": [
       "array([[10003,     0],\n",
       "       [ 1298,     1]], dtype=int64)"
      ]
     },
     "execution_count": 105,
     "metadata": {},
     "output_type": "execute_result"
    }
   ],
   "source": [
    "from sklearn.metrics import confusion_matrix\n",
    "confusion_matrix(y_test,rf.predict(x_test_scaled))"
   ]
  },
  {
   "cell_type": "code",
   "execution_count": 106,
   "id": "f3ab4b2e",
   "metadata": {},
   "outputs": [],
   "source": [
    "#XG BOOST"
   ]
  },
  {
   "cell_type": "code",
   "execution_count": 107,
   "id": "90616a62",
   "metadata": {},
   "outputs": [
    {
     "name": "stdout",
     "output_type": "stream",
     "text": [
      "Requirement already satisfied: xgboost in c:\\users\\akash\\anaconda3\\lib\\site-packages (1.7.4)Note: you may need to restart the kernel to use updated packages.\n",
      "\n",
      "Requirement already satisfied: numpy in c:\\users\\akash\\anaconda3\\lib\\site-packages (from xgboost) (1.21.5)\n",
      "Requirement already satisfied: scipy in c:\\users\\akash\\anaconda3\\lib\\site-packages (from xgboost) (1.9.1)\n"
     ]
    }
   ],
   "source": [
    "pip install xgboost"
   ]
  },
  {
   "cell_type": "code",
   "execution_count": 108,
   "id": "7df61106",
   "metadata": {},
   "outputs": [],
   "source": [
    "import xgboost as xgb\n",
    "from xgboost import XGBClassifier\n",
    "from sklearn.metrics import roc_auc_score,confusion_matrix,f1_score,accuracy_score"
   ]
  },
  {
   "cell_type": "code",
   "execution_count": 109,
   "id": "24b1a4b5",
   "metadata": {},
   "outputs": [
    {
     "name": "stdout",
     "output_type": "stream",
     "text": [
      "Learning rate :  0.01  Train score :  0.9076187947969206 ROC AUC Score : 0.6894325851590172  CVscore :  0.9077409167345377\n",
      "Learning rate :  0.02  Train score :  0.9099784679821845 ROC AUC Score : 0.6878728914043262  CVscore :  0.9158032054656692\n",
      "Learning rate :  0.03  Train score :  0.9117482228711323 ROC AUC Score : 0.6822791114936496  CVscore :  0.9193281330162056\n",
      "Learning rate :  0.04  Train score :  0.9132525145267381 ROC AUC Score : 0.6823790815026469  CVscore :  0.9223935666838077\n",
      "Learning rate :  0.05  Train score :  0.9159661386897915 ROC AUC Score : 0.6800546441148486  CVscore :  0.9244614968138566\n",
      "Learning rate :  0.06  Train score :  0.9177653894935551 ROC AUC Score : 0.6843236867276999  CVscore :  0.9263886018014094\n",
      "Learning rate :  0.07  Train score :  0.9192991770639767 ROC AUC Score : 0.69636099162553  CVscore :  0.9273195420269389\n",
      "Learning rate :  0.08  Train score :  0.9210984278677403 ROC AUC Score : 0.69636099162553  CVscore :  0.9281706371241537\n",
      "Learning rate :  0.09  Train score :  0.922307760375188 ROC AUC Score : 0.7012998871701076  CVscore :  0.9288618774647316\n",
      "Learning rate :  0.1  Train score :  0.9238710438604253 ROC AUC Score : 0.7002301542023921  CVscore :  0.9294434332198674\n",
      "Learning rate :  0.11  Train score :  0.9253163436863995 ROC AUC Score : 0.7056039462218301  CVscore :  0.9295795145752834\n",
      "Learning rate :  0.12  Train score :  0.9267911394271894 ROC AUC Score : 0.7062438620223017  CVscore :  0.9298780685433541\n",
      "Learning rate :  0.13  Train score :  0.9277645046161107 ROC AUC Score : 0.7071935771077761  CVscore :  0.9303111090799046\n",
      "Learning rate :  0.14  Train score :  0.9287968616346636 ROC AUC Score : 0.7100929767259199  CVscore :  0.9302141767416935\n",
      "Learning rate :  0.15  Train score :  0.932247883668112 ROC AUC Score : 0.7115826376028684  CVscore :  0.9298716312441323\n",
      "Learning rate :  0.2  Train score :  0.9362298321682447 ROC AUC Score : 0.7068337928182746  CVscore :  0.9292867974593564\n",
      "Learning rate :  0.5  Train score :  0.9620682535468837 ROC AUC Score : 0.7174365011512712  CVscore :  0.9211021628399245\n",
      "Learning rate :  0.7  Train score :  0.9730112379435448 ROC AUC Score : 0.7124428106518006  CVscore :  0.9156581643725783\n",
      "Learning rate :  1  Train score :  0.9850455711883904 ROC AUC Score : 0.7101533897028738  CVscore :  0.905772028430062\n"
     ]
    }
   ],
   "source": [
    "from sklearn.model_selection import cross_val_score\n",
    "import numpy as np\n",
    "for lr in [0.01,0.02,0.03,0.04,0.05,0.06,0.07,0.08,0.09,0.1,0.11,0.12,0.13,0.14,0.15,0.2,0.5,0.7,1]:\n",
    "    xgb = XGBClassifier(learning_rate = lr, n_estimators=100, verbosity = 0)\n",
    "    xgb.fit(x_train,y_train) \n",
    "    xgb.score(x_test, y_test) \n",
    "    y_pred = xgb.predict(x_test)\n",
    "    print(\"Learning rate : \", lr, \" Train score : \", xgb.score(x_train,y_train),\"ROC AUC Score :\", roc_auc_score(y_test,y_pred), \" CVscore : \", np.mean(cross_val_score(xgb,x_train,y_train,cv=15,scoring=\"roc_auc\")))"
   ]
  },
  {
   "cell_type": "code",
   "execution_count": 110,
   "id": "6a68d7dd",
   "metadata": {},
   "outputs": [
    {
     "data": {
      "text/plain": [
       "0.9850455711883904"
      ]
     },
     "execution_count": 110,
     "metadata": {},
     "output_type": "execute_result"
    }
   ],
   "source": [
    "xgb.score(x_train,y_train)"
   ]
  },
  {
   "cell_type": "code",
   "execution_count": 111,
   "id": "3b56a865",
   "metadata": {},
   "outputs": [
    {
     "data": {
      "text/plain": [
       "array([[9510,  493],\n",
       "       [ 689,  610]], dtype=int64)"
      ]
     },
     "execution_count": 111,
     "metadata": {},
     "output_type": "execute_result"
    }
   ],
   "source": [
    "confusion_matrix(y_test,xgb.predict(x_test))"
   ]
  },
  {
   "cell_type": "code",
   "execution_count": 119,
   "id": "c0ef002f",
   "metadata": {},
   "outputs": [],
   "source": [
    "from sklearn.linear_model import LogisticRegression\n",
    "from sklearn.ensemble import VotingClassifier\n",
    "from sklearn import tree\n",
    "from sklearn.ensemble import RandomForestClassifier\n",
    "from xgboost import XGBClassifier\n",
    "from sklearn.neighbors import KNeighborsClassifier\n",
    "from sklearn.model_selection import train_test_split\n",
    "x_train,x_test,y_train,y_test=train_test_split(x,y,test_size=0.2,random_state=42)\n",
    "scaler=StandardScaler()\n",
    "x_train_scaled=scaler.fit_transform(x_train)\n",
    "x_test_scaled=scaler.transform(x_test)\n",
    "a=LogisticRegression(random_state=12)\n",
    "b=tree.DecisionTreeClassifier(random_state=12)\n",
    "c=KNeighborsClassifier(1)\n",
    "d=XGBClassifier(learning_rate=1,n_estimators=100,verbosity=0)\n",
    "e=RandomForestClassifier(n_estimators=100,max_depth=20,max_features=\"sqrt\")\n",
    "ensemble=VotingClassifier(estimators=[(\"sa\",a),(\"dt\",b),(\"KN\",c),(\"xgb\",d),(\"rf\",e)],voting=\"soft\")"
   ]
  },
  {
   "cell_type": "code",
   "execution_count": 120,
   "id": "47b79ed6",
   "metadata": {},
   "outputs": [],
   "source": [
    "ensemble.fit(x_train_scaled,y_train)\n",
    "y_pred=ensemble.predict(x_test_scaled)\n",
    "r=roc_auc_score(y_test,ensemble.predict_proba(x_test_scaled)[:,1])"
   ]
  },
  {
   "cell_type": "code",
   "execution_count": 135,
   "id": "94707e84",
   "metadata": {},
   "outputs": [],
   "source": [
    "from sklearn.linear_model import LogisticRegression\n",
    "from sklearn.neighbors import KNeighborsClassifier\n",
    "from sklearn.tree import DecisionTreeClassifier\n",
    "from sklearn.ensemble import RandomForestClassifier,VotingClassifier\n",
    "from xgboost import XGBClassifier\n",
    "lr=LogisticRegression()\n",
    "knn=KNeighborsClassifier()\n",
    "dt=DecisionTreeClassifier()\n",
    "rf=RandomForestClassifier()\n",
    "xgb=XGBClassifier()\n",
    "ensemble=VotingClassifier(estimators=[(\"lr\",lr),(\"knn\",knn),(\"dt\",dt),(\"rf\",rf),(\"xgb\",xgb)])\n",
    "model_names=[\"LogisticRegression\",\"KNN\",\"Decision Tree\",\"Random Forest\",\"XGBoost\"]\n",
    "auroc_scores=[0.87,0.86,0.87,0.70,0.98]\n",
    "data={\"MODEL\":model_names,\"AUROC\":auroc_scores}\n",
    "model_df=pd.DataFrame(data)"
   ]
  },
  {
   "cell_type": "code",
   "execution_count": 136,
   "id": "3228daf1",
   "metadata": {},
   "outputs": [
    {
     "data": {
      "text/html": [
       "<div>\n",
       "<style scoped>\n",
       "    .dataframe tbody tr th:only-of-type {\n",
       "        vertical-align: middle;\n",
       "    }\n",
       "\n",
       "    .dataframe tbody tr th {\n",
       "        vertical-align: top;\n",
       "    }\n",
       "\n",
       "    .dataframe thead th {\n",
       "        text-align: right;\n",
       "    }\n",
       "</style>\n",
       "<table border=\"1\" class=\"dataframe\">\n",
       "  <thead>\n",
       "    <tr style=\"text-align: right;\">\n",
       "      <th></th>\n",
       "      <th>MODEL</th>\n",
       "      <th>AUROC</th>\n",
       "    </tr>\n",
       "  </thead>\n",
       "  <tbody>\n",
       "    <tr>\n",
       "      <th>0</th>\n",
       "      <td>LogisticRegression</td>\n",
       "      <td>0.87</td>\n",
       "    </tr>\n",
       "    <tr>\n",
       "      <th>1</th>\n",
       "      <td>KNN</td>\n",
       "      <td>0.86</td>\n",
       "    </tr>\n",
       "    <tr>\n",
       "      <th>2</th>\n",
       "      <td>Decision Tree</td>\n",
       "      <td>0.87</td>\n",
       "    </tr>\n",
       "    <tr>\n",
       "      <th>3</th>\n",
       "      <td>Random Forest</td>\n",
       "      <td>0.70</td>\n",
       "    </tr>\n",
       "    <tr>\n",
       "      <th>4</th>\n",
       "      <td>XGBoost</td>\n",
       "      <td>0.98</td>\n",
       "    </tr>\n",
       "  </tbody>\n",
       "</table>\n",
       "</div>"
      ],
      "text/plain": [
       "                MODEL  AUROC\n",
       "0  LogisticRegression   0.87\n",
       "1                 KNN   0.86\n",
       "2       Decision Tree   0.87\n",
       "3       Random Forest   0.70\n",
       "4             XGBoost   0.98"
      ]
     },
     "execution_count": 136,
     "metadata": {},
     "output_type": "execute_result"
    }
   ],
   "source": [
    "model_df"
   ]
  },
  {
   "cell_type": "code",
   "execution_count": null,
   "id": "9d0b9c2d",
   "metadata": {},
   "outputs": [],
   "source": []
  }
 ],
 "metadata": {
  "kernelspec": {
   "display_name": "Python 3 (ipykernel)",
   "language": "python",
   "name": "python3"
  },
  "language_info": {
   "codemirror_mode": {
    "name": "ipython",
    "version": 3
   },
   "file_extension": ".py",
   "mimetype": "text/x-python",
   "name": "python",
   "nbconvert_exporter": "python",
   "pygments_lexer": "ipython3",
   "version": "3.9.13"
  }
 },
 "nbformat": 4,
 "nbformat_minor": 5
}
